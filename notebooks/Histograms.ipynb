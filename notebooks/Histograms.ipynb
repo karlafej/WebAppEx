{
 "cells": [
  {
   "cell_type": "code",
   "execution_count": 1,
   "metadata": {
    "collapsed": true
   },
   "outputs": [],
   "source": [
    "import plotly.plotly as py\n",
    "import plotly.graph_objs as go\n",
    "import numpy as np\n",
    "import matplotlib.pyplot as plt\n",
    "import csv\n",
    "from bokeh.plotting import figure, show\n",
    "from bokeh.io import output_notebook"
   ]
  },
  {
   "cell_type": "code",
   "execution_count": 2,
   "metadata": {},
   "outputs": [
    {
     "name": "stdout",
     "output_type": "stream",
     "text": [
      "[6, 31, 10, 10, 6, 46, 10, 4, 9, 115, 6, 7, 7, 8, 8, 4, 24, 6, 3, 14, 8, 26, 20, 12, 3, 9, 4, 15, 28, 32, 42, 12, 10, 13, 19, 28, 5, 3, 10, 11, 5, 18, 1, 2, 5, 4, 4, 6, 7, 13, 13, 23, 10, 9, 14, 5, 6, 8, 14, 2, 22, 4, 5, 8, 4, 16, 2, 3, 10, 5, 10, 10, 1, 10, 2, 6, 1, 2, 7, 1, 1, 0, 2, 4, 1, 0, 0, 1]\n"
     ]
    }
   ],
   "source": [
    "with open('../data/twitter_stars.csv', 'r',  encoding=\"utf-8\") as csvfile:\n",
    "    reader = csv.reader(csvfile)\n",
    "    columns = list(zip(*reader))\n",
    "stars = {c[0] : c[1:] for c in columns}\n",
    "for key in stars.keys():\n",
    "    stars[key] = [int(n) for n in stars[key]]\n",
    "likes = [favs + rts for favs, rts in zip(stars['favs'], stars['rts'])]\n",
    "print(likes)"
   ]
  },
  {
   "cell_type": "markdown",
   "metadata": {},
   "source": [
    "### Plotly"
   ]
  },
  {
   "cell_type": "code",
   "execution_count": 3,
   "metadata": {
    "collapsed": true
   },
   "outputs": [],
   "source": [
    "hist_data = np.histogram(likes, bins = 30)\n",
    "binsize = hist_data[1][1] - hist_data[1][0]"
   ]
  },
  {
   "cell_type": "code",
   "execution_count": 12,
   "metadata": {},
   "outputs": [
    {
     "data": {
      "text/plain": [
       "115.0"
      ]
     },
     "execution_count": 12,
     "metadata": {},
     "output_type": "execute_result"
    }
   ],
   "source": [
    "hist_data[1][-1]"
   ]
  },
  {
   "cell_type": "code",
   "execution_count": 13,
   "metadata": {
    "collapsed": true
   },
   "outputs": [],
   "source": [
    "trace = go.Histogram(\n",
    "            x=likes,\n",
    "            autobinx=False,\n",
    "            xbins=dict(\n",
    "                start=hist_data[1][0],\n",
    "                end=hist_data[1][-1]+1,\n",
    "                size=binsize\n",
    "           )\n",
    "        )"
   ]
  },
  {
   "cell_type": "code",
   "execution_count": 14,
   "metadata": {
    "collapsed": true
   },
   "outputs": [],
   "source": [
    "data = [trace] "
   ]
  },
  {
   "cell_type": "code",
   "execution_count": 15,
   "metadata": {
    "collapsed": true
   },
   "outputs": [],
   "source": [
    "layout = go.Layout(\n",
    "    bargroupgap=0.01\n",
    ")"
   ]
  },
  {
   "cell_type": "code",
   "execution_count": 16,
   "metadata": {
    "collapsed": true
   },
   "outputs": [],
   "source": [
    "fig = go.Figure(data=data, layout=layout)"
   ]
  },
  {
   "cell_type": "code",
   "execution_count": 17,
   "metadata": {},
   "outputs": [
    {
     "data": {
      "text/html": [
       "<iframe id=\"igraph\" scrolling=\"no\" style=\"border:none;\" seamless=\"seamless\" src=\"https://plot.ly/~karlafej/24.embed\" height=\"525px\" width=\"100%\"></iframe>"
      ],
      "text/plain": [
       "<plotly.tools.PlotlyDisplay object>"
      ]
     },
     "execution_count": 17,
     "metadata": {},
     "output_type": "execute_result"
    }
   ],
   "source": [
    "py.iplot(fig)"
   ]
  },
  {
   "cell_type": "markdown",
   "metadata": {},
   "source": [
    "### Matplotlib"
   ]
  },
  {
   "cell_type": "code",
   "execution_count": 9,
   "metadata": {},
   "outputs": [
    {
     "data": {
      "image/png": "[encoded data removed]",
      "text/plain": [
       "<matplotlib.figure.Figure at 0x108de1198>"
      ]
     },
     "metadata": {},
     "output_type": "display_data"
    }
   ],
   "source": [
    "plt.hist(likes, bins=30)\n",
    "plt.show()"
   ]
  },
  {
   "cell_type": "markdown",
   "metadata": {},
   "source": [
    "### Bokeh"
   ]
  },
  {
   "cell_type": "code",
   "execution_count": 10,
   "metadata": {},
   "outputs": [
    {
     "data": {
      "text/html": [
       "\n",
       "    <div class=\"bk-root\">\n",
       "        <a href=\"http://bokeh.pydata.org\" target=\"_blank\" class=\"bk-logo bk-logo-small bk-logo-notebook\"></a>\n",
       "        <span id=\"aa4bcac2-8e00-45b1-86dd-0dcdc8fbaa86\">Loading BokehJS ...</span>\n",
       "    </div>"
      ]
     },
     "metadata": {},
     "output_type": "display_data"
    },
    {
     "data": {
      "application/javascript": [
       "\n",
       "(function(global) {\n",
       "  function now() {\n",
       "    return new Date();\n",
       "  }\n",
       "\n",
       "  var force = true;\n",
       "\n",
       "  if (typeof (window._bokeh_onload_callbacks) === \"undefined\" || force === true) {\n",
       "    window._bokeh_onload_callbacks = [];\n",
       "    window._bokeh_is_loading = undefined;\n",
       "  }\n",
       "\n",
       "\n",
       "  \n",
       "  if (typeof (window._bokeh_timeout) === \"undefined\" || force === true) {\n",
       "    window._bokeh_timeout = Date.now() + 5000;\n",
       "    window._bokeh_failed_load = false;\n",
       "  }\n",
       "\n",
       "  var NB_LOAD_WARNING = {'data': {'text/html':\n",
       "     \"<div style='background-color: #fdd'>\\n\"+\n",
       "     \"<p>\\n\"+\n",
       "     \"BokehJS does not appear to have successfully loaded. If loading BokehJS from CDN, this \\n\"+\n",
       "     \"may be due to a slow or bad network connection. Possible fixes:\\n\"+\n",
       "     \"</p>\\n\"+\n",
       "     \"<ul>\\n\"+\n",
       "     \"<li>re-rerun `output_notebook()` to attempt to load from CDN again, or</li>\\n\"+\n",
       "     \"<li>use INLINE resources instead, as so:</li>\\n\"+\n",
       "     \"</ul>\\n\"+\n",
       "     \"<code>\\n\"+\n",
       "     \"from bokeh.resources import INLINE\\n\"+\n",
       "     \"output_notebook(resources=INLINE)\\n\"+\n",
       "     \"</code>\\n\"+\n",
       "     \"</div>\"}};\n",
       "\n",
       "  function display_loaded() {\n",
       "    if (window.Bokeh !== undefined) {\n",
       "      var el = document.getElementById(\"aa4bcac2-8e00-45b1-86dd-0dcdc8fbaa86\");\n",
       "      el.textContent = \"BokehJS \" + Bokeh.version + \" successfully loaded.\";\n",
       "    } else if (Date.now() < window._bokeh_timeout) {\n",
       "      setTimeout(display_loaded, 100)\n",
       "    }\n",
       "  }\n",
       "\n",
       "  function run_callbacks() {\n",
       "    window._bokeh_onload_callbacks.forEach(function(callback) { callback() });\n",
       "    delete window._bokeh_onload_callbacks\n",
       "    console.info(\"Bokeh: all callbacks have finished\");\n",
       "  }\n",
       "\n",
       "  function load_libs(js_urls, callback) {\n",
       "    window._bokeh_onload_callbacks.push(callback);\n",
       "    if (window._bokeh_is_loading > 0) {\n",
       "      console.log(\"Bokeh: BokehJS is being loaded, scheduling callback at\", now());\n",
       "      return null;\n",
       "    }\n",
       "    if (js_urls == null || js_urls.length === 0) {\n",
       "      run_callbacks();\n",
       "      return null;\n",
       "    }\n",
       "    console.log(\"Bokeh: BokehJS not loaded, scheduling load and callback at\", now());\n",
       "    window._bokeh_is_loading = js_urls.length;\n",
       "    for (var i = 0; i < js_urls.length; i++) {\n",
       "      var url = js_urls[i];\n",
       "      var s = document.createElement('script');\n",
       "      s.src = url;\n",
       "      s.async = false;\n",
       "      s.onreadystatechange = s.onload = function() {\n",
       "        window._bokeh_is_loading--;\n",
       "        if (window._bokeh_is_loading === 0) {\n",
       "          console.log(\"Bokeh: all BokehJS libraries loaded\");\n",
       "          run_callbacks()\n",
       "        }\n",
       "      };\n",
       "      s.onerror = function() {\n",
       "        console.warn(\"failed to load library \" + url);\n",
       "      };\n",
       "      console.log(\"Bokeh: injecting script tag for BokehJS library: \", url);\n",
       "      document.getElementsByTagName(\"head\")[0].appendChild(s);\n",
       "    }\n",
       "  };var element = document.getElementById(\"aa4bcac2-8e00-45b1-86dd-0dcdc8fbaa86\");\n",
       "  if (element == null) {\n",
       "    console.log(\"Bokeh: ERROR: autoload.js configured with elementid 'aa4bcac2-8e00-45b1-86dd-0dcdc8fbaa86' but no matching script tag was found. \")\n",
       "    return false;\n",
       "  }\n",
       "\n",
       "  var js_urls = [\"https://cdn.pydata.org/bokeh/release/bokeh-0.12.5.min.js\", \"https://cdn.pydata.org/bokeh/release/bokeh-widgets-0.12.5.min.js\"];\n",
       "\n",
       "  var inline_js = [\n",
       "    function(Bokeh) {\n",
       "      Bokeh.set_log_level(\"info\");\n",
       "    },\n",
       "    \n",
       "    function(Bokeh) {\n",
       "      \n",
       "    },\n",
       "    \n",
       "    function(Bokeh) {\n",
       "      \n",
       "      document.getElementById(\"aa4bcac2-8e00-45b1-86dd-0dcdc8fbaa86\").textContent = \"BokehJS is loading...\";\n",
       "    },\n",
       "    function(Bokeh) {\n",
       "      console.log(\"Bokeh: injecting CSS: https://cdn.pydata.org/bokeh/release/bokeh-0.12.5.min.css\");\n",
       "      Bokeh.embed.inject_css(\"https://cdn.pydata.org/bokeh/release/bokeh-0.12.5.min.css\");\n",
       "      console.log(\"Bokeh: injecting CSS: https://cdn.pydata.org/bokeh/release/bokeh-widgets-0.12.5.min.css\");\n",
       "      Bokeh.embed.inject_css(\"https://cdn.pydata.org/bokeh/release/bokeh-widgets-0.12.5.min.css\");\n",
       "    }\n",
       "  ];\n",
       "\n",
       "  function run_inline_js() {\n",
       "    \n",
       "    if ((window.Bokeh !== undefined) || (force === true)) {\n",
       "      for (var i = 0; i < inline_js.length; i++) {\n",
       "        inline_js[i](window.Bokeh);\n",
       "      }if (force === true) {\n",
       "        display_loaded();\n",
       "      }} else if (Date.now() < window._bokeh_timeout) {\n",
       "      setTimeout(run_inline_js, 100);\n",
       "    } else if (!window._bokeh_failed_load) {\n",
       "      console.log(\"Bokeh: BokehJS failed to load within specified timeout.\");\n",
       "      window._bokeh_failed_load = true;\n",
       "    } else if (force !== true) {\n",
       "      var cell = $(document.getElementById(\"aa4bcac2-8e00-45b1-86dd-0dcdc8fbaa86\")).parents('.cell').data().cell;\n",
       "      cell.output_area.append_execute_result(NB_LOAD_WARNING)\n",
       "    }\n",
       "\n",
       "  }\n",
       "\n",
       "  if (window._bokeh_is_loading === 0) {\n",
       "    console.log(\"Bokeh: BokehJS loaded, going straight to plotting\");\n",
       "    run_inline_js();\n",
       "  } else {\n",
       "    load_libs(js_urls, function() {\n",
       "      console.log(\"Bokeh: BokehJS plotting callback run at\", now());\n",
       "      run_inline_js();\n",
       "    });\n",
       "  }\n",
       "}(this));"
      ]
     },
     "metadata": {},
     "output_type": "display_data"
    }
   ],
   "source": [
    "output_notebook()"
   ]
  },
  {
   "cell_type": "code",
   "execution_count": 11,
   "metadata": {},
   "outputs": [
    {
     "data": {
      "text/html": [
       "\n",
       "\n",
       "    <div class=\"bk-root\">\n",
       "        <div class=\"bk-plotdiv\" id=\"4f7b18fc-ac66-4f37-98c4-93f9d07f9389\"></div>\n",
       "    </div>\n",
       "<script type=\"text/javascript\">\n",
       "  \n",
       "  (function(global) {\n",
       "    function now() {\n",
       "      return new Date();\n",
       "    }\n",
       "  \n",
       "    var force = false;\n",
       "  \n",
       "    if (typeof (window._bokeh_onload_callbacks) === \"undefined\" || force === true) {\n",
       "      window._bokeh_onload_callbacks = [];\n",
       "      window._bokeh_is_loading = undefined;\n",
       "    }\n",
       "  \n",
       "  \n",
       "    \n",
       "    if (typeof (window._bokeh_timeout) === \"undefined\" || force === true) {\n",
       "      window._bokeh_timeout = Date.now() + 0;\n",
       "      window._bokeh_failed_load = false;\n",
       "    }\n",
       "  \n",
       "    var NB_LOAD_WARNING = {'data': {'text/html':\n",
       "       \"<div style='background-color: #fdd'>\\n\"+\n",
       "       \"<p>\\n\"+\n",
       "       \"BokehJS does not appear to have successfully loaded. If loading BokehJS from CDN, this \\n\"+\n",
       "       \"may be due to a slow or bad network connection. Possible fixes:\\n\"+\n",
       "       \"</p>\\n\"+\n",
       "       \"<ul>\\n\"+\n",
       "       \"<li>re-rerun `output_notebook()` to attempt to load from CDN again, or</li>\\n\"+\n",
       "       \"<li>use INLINE resources instead, as so:</li>\\n\"+\n",
       "       \"</ul>\\n\"+\n",
       "       \"<code>\\n\"+\n",
       "       \"from bokeh.resources import INLINE\\n\"+\n",
       "       \"output_notebook(resources=INLINE)\\n\"+\n",
       "       \"</code>\\n\"+\n",
       "       \"</div>\"}};\n",
       "  \n",
       "    function display_loaded() {\n",
       "      if (window.Bokeh !== undefined) {\n",
       "        var el = document.getElementById(\"4f7b18fc-ac66-4f37-98c4-93f9d07f9389\");\n",
       "        el.textContent = \"BokehJS \" + Bokeh.version + \" successfully loaded.\";\n",
       "      } else if (Date.now() < window._bokeh_timeout) {\n",
       "        setTimeout(display_loaded, 100)\n",
       "      }\n",
       "    }\n",
       "  \n",
       "    function run_callbacks() {\n",
       "      window._bokeh_onload_callbacks.forEach(function(callback) { callback() });\n",
       "      delete window._bokeh_onload_callbacks\n",
       "      console.info(\"Bokeh: all callbacks have finished\");\n",
       "    }\n",
       "  \n",
       "    function load_libs(js_urls, callback) {\n",
       "      window._bokeh_onload_callbacks.push(callback);\n",
       "      if (window._bokeh_is_loading > 0) {\n",
       "        console.log(\"Bokeh: BokehJS is being loaded, scheduling callback at\", now());\n",
       "        return null;\n",
       "      }\n",
       "      if (js_urls == null || js_urls.length === 0) {\n",
       "        run_callbacks();\n",
       "        return null;\n",
       "      }\n",
       "      console.log(\"Bokeh: BokehJS not loaded, scheduling load and callback at\", now());\n",
       "      window._bokeh_is_loading = js_urls.length;\n",
       "      for (var i = 0; i < js_urls.length; i++) {\n",
       "        var url = js_urls[i];\n",
       "        var s = document.createElement('script');\n",
       "        s.src = url;\n",
       "        s.async = false;\n",
       "        s.onreadystatechange = s.onload = function() {\n",
       "          window._bokeh_is_loading--;\n",
       "          if (window._bokeh_is_loading === 0) {\n",
       "            console.log(\"Bokeh: all BokehJS libraries loaded\");\n",
       "            run_callbacks()\n",
       "          }\n",
       "        };\n",
       "        s.onerror = function() {\n",
       "          console.warn(\"failed to load library \" + url);\n",
       "        };\n",
       "        console.log(\"Bokeh: injecting script tag for BokehJS library: \", url);\n",
       "        document.getElementsByTagName(\"head\")[0].appendChild(s);\n",
       "      }\n",
       "    };var element = document.getElementById(\"4f7b18fc-ac66-4f37-98c4-93f9d07f9389\");\n",
       "    if (element == null) {\n",
       "      console.log(\"Bokeh: ERROR: autoload.js configured with elementid '4f7b18fc-ac66-4f37-98c4-93f9d07f9389' but no matching script tag was found. \")\n",
       "      return false;\n",
       "    }\n",
       "  \n",
       "    var js_urls = [];\n",
       "  \n",
       "    var inline_js = [\n",
       "      function(Bokeh) {\n",
       "        (function() {\n",
       "          var fn = function() {\n",
       "            var docs_json = {\"50880997-68c7-4468-a76b-40c4e3d2f90a\":{\"roots\":{\"references\":[{\"attributes\":{},\"id\":\"bbd07136-fc4c-48be-b7a9-86bb2fd0b8d2\",\"type\":\"BasicTickFormatter\"},{\"attributes\":{},\"id\":\"92934ee6-87c7-460b-a288-8537a147171a\",\"type\":\"BasicTicker\"},{\"attributes\":{\"plot\":{\"id\":\"e7d0929d-c337-42a1-acaa-23cd50167487\",\"subtype\":\"Figure\",\"type\":\"Plot\"},\"ticker\":{\"id\":\"92934ee6-87c7-460b-a288-8537a147171a\",\"type\":\"BasicTicker\"}},\"id\":\"e6e118c8-0bd2-4f6d-a979-0b2cda11d0db\",\"type\":\"Grid\"},{\"attributes\":{},\"id\":\"aa3b4be3-48e1-4e24-810a-8cb23ee5c111\",\"type\":\"BasicTicker\"},{\"attributes\":{\"formatter\":{\"id\":\"6c522722-667c-4cbe-966a-9d89aa96c643\",\"type\":\"BasicTickFormatter\"},\"plot\":{\"id\":\"e7d0929d-c337-42a1-acaa-23cd50167487\",\"subtype\":\"Figure\",\"type\":\"Plot\"},\"ticker\":{\"id\":\"92934ee6-87c7-460b-a288-8537a147171a\",\"type\":\"BasicTicker\"}},\"id\":\"cd34c5e0-b364-4498-9fbf-f411902ddce4\",\"type\":\"LinearAxis\"},{\"attributes\":{\"below\":[{\"id\":\"cd34c5e0-b364-4498-9fbf-f411902ddce4\",\"type\":\"LinearAxis\"}],\"left\":[{\"id\":\"d4c115d1-cdac-4f86-bcbb-381fd4233642\",\"type\":\"LinearAxis\"}],\"plot_height\":400,\"plot_width\":400,\"renderers\":[{\"id\":\"cd34c5e0-b364-4498-9fbf-f411902ddce4\",\"type\":\"LinearAxis\"},{\"id\":\"e6e118c8-0bd2-4f6d-a979-0b2cda11d0db\",\"type\":\"Grid\"},{\"id\":\"d4c115d1-cdac-4f86-bcbb-381fd4233642\",\"type\":\"LinearAxis\"},{\"id\":\"cb852c11-64bb-44bf-9234-cc58aaf7d73f\",\"type\":\"Grid\"},{\"id\":\"31b5686d-c8d2-4461-b885-84f7a84166fb\",\"type\":\"GlyphRenderer\"}],\"title\":{\"id\":\"c86fda9d-5e66-4474-baae-8d3a108c37da\",\"type\":\"Title\"},\"tool_events\":{\"id\":\"77a60891-27c2-44c4-93be-ed7241ebaf0c\",\"type\":\"ToolEvents\"},\"toolbar\":{\"id\":\"91c3b300-cb29-49fb-b7b3-5fb195146b3b\",\"type\":\"Toolbar\"},\"x_range\":{\"id\":\"f4ee4e82-e3e4-4557-b9dc-80cdf9765e65\",\"type\":\"DataRange1d\"},\"y_range\":{\"id\":\"da099afd-884d-4e2a-896f-93d8107cc172\",\"type\":\"DataRange1d\"}},\"id\":\"e7d0929d-c337-42a1-acaa-23cd50167487\",\"subtype\":\"Figure\",\"type\":\"Plot\"},{\"attributes\":{},\"id\":\"6c522722-667c-4cbe-966a-9d89aa96c643\",\"type\":\"BasicTickFormatter\"},{\"attributes\":{\"formatter\":{\"id\":\"bbd07136-fc4c-48be-b7a9-86bb2fd0b8d2\",\"type\":\"BasicTickFormatter\"},\"plot\":{\"id\":\"e7d0929d-c337-42a1-acaa-23cd50167487\",\"subtype\":\"Figure\",\"type\":\"Plot\"},\"ticker\":{\"id\":\"aa3b4be3-48e1-4e24-810a-8cb23ee5c111\",\"type\":\"BasicTicker\"}},\"id\":\"d4c115d1-cdac-4f86-bcbb-381fd4233642\",\"type\":\"LinearAxis\"},{\"attributes\":{\"bottom\":{\"value\":0},\"fill_color\":{\"value\":\"#446785\"},\"left\":{\"field\":\"left\"},\"line_color\":{\"value\":\"#033649\"},\"right\":{\"field\":\"right\"},\"top\":{\"field\":\"top\"}},\"id\":\"0dd53f40-95d9-4382-8ff6-3456ab88ccfa\",\"type\":\"Quad\"},{\"attributes\":{\"dimension\":1,\"plot\":{\"id\":\"e7d0929d-c337-42a1-acaa-23cd50167487\",\"subtype\":\"Figure\",\"type\":\"Plot\"},\"ticker\":{\"id\":\"aa3b4be3-48e1-4e24-810a-8cb23ee5c111\",\"type\":\"BasicTicker\"}},\"id\":\"cb852c11-64bb-44bf-9234-cc58aaf7d73f\",\"type\":\"Grid\"},{\"attributes\":{\"plot\":null,\"text\":\"histogram of @python_tip stars\"},\"id\":\"c86fda9d-5e66-4474-baae-8d3a108c37da\",\"type\":\"Title\"},{\"attributes\":{\"plot\":{\"id\":\"e7d0929d-c337-42a1-acaa-23cd50167487\",\"subtype\":\"Figure\",\"type\":\"Plot\"}},\"id\":\"f944dd1b-313a-4a43-89fa-4585fdb5bbc9\",\"type\":\"PanTool\"},{\"attributes\":{\"plot\":{\"id\":\"e7d0929d-c337-42a1-acaa-23cd50167487\",\"subtype\":\"Figure\",\"type\":\"Plot\"}},\"id\":\"23313400-f869-4141-9ac3-7e91bf89baa6\",\"type\":\"SaveTool\"},{\"attributes\":{\"plot\":{\"id\":\"e7d0929d-c337-42a1-acaa-23cd50167487\",\"subtype\":\"Figure\",\"type\":\"Plot\"}},\"id\":\"de1d6d77-e3d9-48a9-a8ba-eb03a0acff01\",\"type\":\"WheelZoomTool\"},{\"attributes\":{\"callback\":null,\"column_names\":[\"left\",\"right\",\"top\"],\"data\":{\"left\":{\"__ndarray__\":\"AAAAAAAAAACrqqqqqqoOQKuqqqqqqh5AAAAAAAAAJ0CrqqqqqqouQKuqqqqqKjNAAAAAAAAAN0BWVVVVVdU6QKuqqqqqqj5AAAAAAABAQUCrqqqqqipDQFZVVVVVFUVAAAAAAAAAR0CrqqqqqupIQFZVVVVV1UpAAAAAAADATECrqqqqqqpOQKuqqqqqSlBAAAAAAABAUUBWVVVVVTVSQKuqqqqqKlNAAAAAAAAgVEBWVVVVVRVVQKuqqqqqClZAAAAAAAAAV0BWVVVVVfVXQKuqqqqq6lhAAAAAAADgWUBWVVVVVdVaQKuqqqqqyltA\",\"dtype\":\"float64\",\"shape\":[30]},\"right\":{\"__ndarray__\":\"q6qqqqqqDkCrqqqqqqoeQAAAAAAAACdAq6qqqqqqLkCrqqqqqiozQAAAAAAAADdAVlVVVVXVOkCrqqqqqqo+QAAAAAAAQEFAq6qqqqoqQ0BWVVVVVRVFQAAAAAAAAEdAq6qqqqrqSEBWVVVVVdVKQAAAAAAAwExAq6qqqqqqTkCrqqqqqkpQQAAAAAAAQFFAVlVVVVU1UkCrqqqqqipTQAAAAAAAIFRAVlVVVVUVVUCrqqqqqgpWQAAAAAAAAFdAVlVVVVX1V0CrqqqqqupYQAAAAAAA4FlAVlVVVVXVWkCrqqqqqspbQAAAAAAAwFxA\",\"dtype\":\"float64\",\"shape\":[30]},\"top\":[20,25,19,9,3,2,3,2,2,0,1,0,1,0,0,0,0,0,0,0,0,0,0,0,0,0,0,0,0,1]}},\"id\":\"029c0d64-bd70-4576-adbd-0e295abebb22\",\"type\":\"ColumnDataSource\"},{\"attributes\":{},\"id\":\"77a60891-27c2-44c4-93be-ed7241ebaf0c\",\"type\":\"ToolEvents\"},{\"attributes\":{\"plot\":{\"id\":\"e7d0929d-c337-42a1-acaa-23cd50167487\",\"subtype\":\"Figure\",\"type\":\"Plot\"}},\"id\":\"1cd0dc43-1729-4bc6-bded-7953e5ac9d37\",\"type\":\"CrosshairTool\"},{\"attributes\":{\"callback\":null,\"plot\":{\"id\":\"e7d0929d-c337-42a1-acaa-23cd50167487\",\"subtype\":\"Figure\",\"type\":\"Plot\"}},\"id\":\"f0d00440-068c-4184-8d4b-0b7e00eeb7ae\",\"type\":\"HoverTool\"},{\"attributes\":{\"callback\":null},\"id\":\"da099afd-884d-4e2a-896f-93d8107cc172\",\"type\":\"DataRange1d\"},{\"attributes\":{\"active_drag\":\"auto\",\"active_scroll\":\"auto\",\"active_tap\":\"auto\",\"tools\":[{\"id\":\"1cd0dc43-1729-4bc6-bded-7953e5ac9d37\",\"type\":\"CrosshairTool\"},{\"id\":\"f944dd1b-313a-4a43-89fa-4585fdb5bbc9\",\"type\":\"PanTool\"},{\"id\":\"63048eb4-db78-4a76-811b-58fc8ba01636\",\"type\":\"ResetTool\"},{\"id\":\"23313400-f869-4141-9ac3-7e91bf89baa6\",\"type\":\"SaveTool\"},{\"id\":\"de1d6d77-e3d9-48a9-a8ba-eb03a0acff01\",\"type\":\"WheelZoomTool\"},{\"id\":\"f0d00440-068c-4184-8d4b-0b7e00eeb7ae\",\"type\":\"HoverTool\"}]},\"id\":\"91c3b300-cb29-49fb-b7b3-5fb195146b3b\",\"type\":\"Toolbar\"},{\"attributes\":{\"callback\":null},\"id\":\"f4ee4e82-e3e4-4557-b9dc-80cdf9765e65\",\"type\":\"DataRange1d\"},{\"attributes\":{\"data_source\":{\"id\":\"029c0d64-bd70-4576-adbd-0e295abebb22\",\"type\":\"ColumnDataSource\"},\"glyph\":{\"id\":\"0dd53f40-95d9-4382-8ff6-3456ab88ccfa\",\"type\":\"Quad\"},\"hover_glyph\":null,\"muted_glyph\":null,\"nonselection_glyph\":{\"id\":\"6f023609-8610-42cd-8ab2-7d9e94a710cb\",\"type\":\"Quad\"},\"selection_glyph\":null},\"id\":\"31b5686d-c8d2-4461-b885-84f7a84166fb\",\"type\":\"GlyphRenderer\"},{\"attributes\":{\"plot\":{\"id\":\"e7d0929d-c337-42a1-acaa-23cd50167487\",\"subtype\":\"Figure\",\"type\":\"Plot\"}},\"id\":\"63048eb4-db78-4a76-811b-58fc8ba01636\",\"type\":\"ResetTool\"},{\"attributes\":{\"bottom\":{\"value\":0},\"fill_alpha\":{\"value\":0.1},\"fill_color\":{\"value\":\"#1f77b4\"},\"left\":{\"field\":\"left\"},\"line_alpha\":{\"value\":0.1},\"line_color\":{\"value\":\"#1f77b4\"},\"right\":{\"field\":\"right\"},\"top\":{\"field\":\"top\"}},\"id\":\"6f023609-8610-42cd-8ab2-7d9e94a710cb\",\"type\":\"Quad\"}],\"root_ids\":[\"e7d0929d-c337-42a1-acaa-23cd50167487\"]},\"title\":\"Bokeh Application\",\"version\":\"0.12.5\"}};\n",
       "            var render_items = [{\"docid\":\"50880997-68c7-4468-a76b-40c4e3d2f90a\",\"elementid\":\"4f7b18fc-ac66-4f37-98c4-93f9d07f9389\",\"modelid\":\"e7d0929d-c337-42a1-acaa-23cd50167487\"}];\n",
       "            \n",
       "            Bokeh.embed.embed_items(docs_json, render_items);\n",
       "          };\n",
       "          if (document.readyState != \"loading\") fn();\n",
       "          else document.addEventListener(\"DOMContentLoaded\", fn);\n",
       "        })();\n",
       "      },\n",
       "      function(Bokeh) {\n",
       "      }\n",
       "    ];\n",
       "  \n",
       "    function run_inline_js() {\n",
       "      \n",
       "      if ((window.Bokeh !== undefined) || (force === true)) {\n",
       "        for (var i = 0; i < inline_js.length; i++) {\n",
       "          inline_js[i](window.Bokeh);\n",
       "        }if (force === true) {\n",
       "          display_loaded();\n",
       "        }} else if (Date.now() < window._bokeh_timeout) {\n",
       "        setTimeout(run_inline_js, 100);\n",
       "      } else if (!window._bokeh_failed_load) {\n",
       "        console.log(\"Bokeh: BokehJS failed to load within specified timeout.\");\n",
       "        window._bokeh_failed_load = true;\n",
       "      } else if (force !== true) {\n",
       "        var cell = $(document.getElementById(\"4f7b18fc-ac66-4f37-98c4-93f9d07f9389\")).parents('.cell').data().cell;\n",
       "        cell.output_area.append_execute_result(NB_LOAD_WARNING)\n",
       "      }\n",
       "  \n",
       "    }\n",
       "  \n",
       "    if (window._bokeh_is_loading === 0) {\n",
       "      console.log(\"Bokeh: BokehJS loaded, going straight to plotting\");\n",
       "      run_inline_js();\n",
       "    } else {\n",
       "      load_libs(js_urls, function() {\n",
       "        console.log(\"Bokeh: BokehJS plotting callback run at\", now());\n",
       "        run_inline_js();\n",
       "      });\n",
       "    }\n",
       "  }(this));\n",
       "</script>"
      ]
     },
     "metadata": {},
     "output_type": "display_data"
    }
   ],
   "source": [
    "hist, edges = np.histogram(likes, bins = 30)\n",
    "plot = figure(plot_height=400, plot_width=400, title=\"histogram of @python_tip stars\",\n",
    "              tools=\"crosshair,pan,reset,save,wheel_zoom,hover\")\n",
    "\n",
    "hh = plot.quad(bottom=0, left=edges[:-1], right=edges[1:], top=hist, fill_color=\"#446785\", line_color=\"#033649\")\n",
    "show(plot)"
   ]
  },
  {
   "cell_type": "code",
   "execution_count": null,
   "metadata": {
    "collapsed": true
   },
   "outputs": [],
   "source": []
  }
 ],
 "metadata": {
  "kernelspec": {
   "display_name": "Python 3",
   "language": "python",
   "name": "python3"
  },
  "language_info": {
   "codemirror_mode": {
    "name": "ipython",
    "version": 3
   },
   "file_extension": ".py",
   "mimetype": "text/x-python",
   "name": "python",
   "nbconvert_exporter": "python",
   "pygments_lexer": "ipython3",
   "version": "3.6.1"
  }
 },
 "nbformat": 4,
 "nbformat_minor": 2
}
