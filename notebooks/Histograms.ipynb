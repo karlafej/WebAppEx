{
 "cells": [
  {
   "cell_type": "code",
   "execution_count": 87,
   "metadata": {
    "collapsed": true
   },
   "outputs": [],
   "source": [
    "import plotly.plotly as py\n",
    "import plotly.graph_objs as go\n",
    "import numpy as np\n",
    "import matplotlib.pyplot as plt\n",
    "import csv\n",
    "from bokeh.plotting import figure, show\n",
    "from bokeh.io import output_notebook"
   ]
  },
  {
   "cell_type": "code",
   "execution_count": 44,
   "metadata": {},
   "outputs": [
    {
     "name": "stdout",
     "output_type": "stream",
     "text": [
      "[6, 31, 10, 10, 6, 46, 10, 4, 9, 115, 6, 7, 7, 8, 8, 4, 24, 6, 3, 14, 8, 26, 20, 12, 3, 9, 4, 15, 28, 32, 42, 12, 10, 13, 19, 28, 5, 3, 10, 11, 5, 18, 1, 2, 5, 4, 4, 6, 7, 13, 13, 23, 10, 9, 14, 5, 6, 8, 14, 2, 22, 4, 5, 8, 4, 16, 2, 3, 10, 5, 10, 10, 1, 10, 2, 6, 1, 2, 7, 1, 1, 0, 2, 4, 1, 0, 0, 1]\n"
     ]
    }
   ],
   "source": [
    "with open('../data/twitter_stars.csv', 'r',  encoding=\"utf-8\") as csvfile:\n",
    "    reader = csv.reader(csvfile)\n",
    "    columns = list(zip(*reader))\n",
    "stars = {c[0] : c[1:] for c in columns}\n",
    "for key in stars.keys():\n",
    "    stars[key] = [int(n) for n in stars[key]]\n",
    "likes = [favs + rts for favs, rts in zip(stars['favs'], stars['rts'])]\n",
    "print(likes)"
   ]
  },
  {
   "cell_type": "markdown",
   "metadata": {},
   "source": [
    "### Plotly"
   ]
  },
  {
   "cell_type": "code",
   "execution_count": 76,
   "metadata": {
    "collapsed": true
   },
   "outputs": [],
   "source": [
    "hist_data = np.histogram(likes, bins = 30)\n",
    "binsize = hist_data[1][1] - hist_data[1][0]"
   ]
  },
  {
   "cell_type": "code",
   "execution_count": 77,
   "metadata": {},
   "outputs": [],
   "source": [
    "trace = go.Histogram(\n",
    "            x=likes,\n",
    "            autobinx=False,\n",
    "            xbins=dict(\n",
    "                start=hist_data[1][0],\n",
    "                end=hist_data[1][-1],\n",
    "                size=binsize\n",
    "           )\n",
    "        )"
   ]
  },
  {
   "cell_type": "code",
   "execution_count": 78,
   "metadata": {
    "collapsed": true
   },
   "outputs": [],
   "source": [
    "data = [trace] "
   ]
  },
  {
   "cell_type": "code",
   "execution_count": 90,
   "metadata": {
    "collapsed": true
   },
   "outputs": [],
   "source": [
    "layout = go.Layout(\n",
    "    bargroupgap=0.01\n",
    ")"
   ]
  },
  {
   "cell_type": "code",
   "execution_count": 91,
   "metadata": {
    "collapsed": true
   },
   "outputs": [],
   "source": [
    "fig = go.Figure(data=data, layout=layout)"
   ]
  },
  {
   "cell_type": "code",
   "execution_count": 92,
   "metadata": {},
   "outputs": [
    {
     "data": {
      "text/html": [
       "<iframe id=\"igraph\" scrolling=\"no\" style=\"border:none;\" seamless=\"seamless\" src=\"https://plot.ly/~karlafej/20.embed\" height=\"525px\" width=\"100%\"></iframe>"
      ],
      "text/plain": [
       "<plotly.tools.PlotlyDisplay object>"
      ]
     },
     "execution_count": 92,
     "metadata": {},
     "output_type": "execute_result"
    }
   ],
   "source": [
    "py.iplot(fig)"
   ]
  },
  {
   "cell_type": "markdown",
   "metadata": {},
   "source": [
    "### Matplotlib"
   ]
  },
  {
   "cell_type": "code",
   "execution_count": 83,
   "metadata": {},
   "outputs": [
    {
     "data": {
      "image/png": "[encoded data removed]",
      "text/plain": [
       "<matplotlib.figure.Figure at 0x11024d630>"
      ]
     },
     "metadata": {},
     "output_type": "display_data"
    }
   ],
   "source": [
    "plt.hist(likes, bins=30)\n",
    "plt.show()"
   ]
  },
  {
   "cell_type": "markdown",
   "metadata": {},
   "source": [
    "### Bokeh"
   ]
  },
  {
   "cell_type": "code",
   "execution_count": 88,
   "metadata": {},
   "outputs": [
    {
     "data": {
      "text/html": [
       "\n",
       "    <div class=\"bk-root\">\n",
       "        <a href=\"http://bokeh.pydata.org\" target=\"_blank\" class=\"bk-logo bk-logo-small bk-logo-notebook\"></a>\n",
       "        <span id=\"e5a5e58e-5530-432b-aa33-161aa0a6c29f\">Loading BokehJS ...</span>\n",
       "    </div>"
      ]
     },
     "metadata": {},
     "output_type": "display_data"
    },
    {
     "data": {
      "application/javascript": [
       "\n",
       "(function(global) {\n",
       "  function now() {\n",
       "    return new Date();\n",
       "  }\n",
       "\n",
       "  var force = true;\n",
       "\n",
       "  if (typeof (window._bokeh_onload_callbacks) === \"undefined\" || force === true) {\n",
       "    window._bokeh_onload_callbacks = [];\n",
       "    window._bokeh_is_loading = undefined;\n",
       "  }\n",
       "\n",
       "\n",
       "  \n",
       "  if (typeof (window._bokeh_timeout) === \"undefined\" || force === true) {\n",
       "    window._bokeh_timeout = Date.now() + 5000;\n",
       "    window._bokeh_failed_load = false;\n",
       "  }\n",
       "\n",
       "  var NB_LOAD_WARNING = {'data': {'text/html':\n",
       "     \"<div style='background-color: #fdd'>\\n\"+\n",
       "     \"<p>\\n\"+\n",
       "     \"BokehJS does not appear to have successfully loaded. If loading BokehJS from CDN, this \\n\"+\n",
       "     \"may be due to a slow or bad network connection. Possible fixes:\\n\"+\n",
       "     \"</p>\\n\"+\n",
       "     \"<ul>\\n\"+\n",
       "     \"<li>re-rerun `output_notebook()` to attempt to load from CDN again, or</li>\\n\"+\n",
       "     \"<li>use INLINE resources instead, as so:</li>\\n\"+\n",
       "     \"</ul>\\n\"+\n",
       "     \"<code>\\n\"+\n",
       "     \"from bokeh.resources import INLINE\\n\"+\n",
       "     \"output_notebook(resources=INLINE)\\n\"+\n",
       "     \"</code>\\n\"+\n",
       "     \"</div>\"}};\n",
       "\n",
       "  function display_loaded() {\n",
       "    if (window.Bokeh !== undefined) {\n",
       "      var el = document.getElementById(\"e5a5e58e-5530-432b-aa33-161aa0a6c29f\");\n",
       "      el.textContent = \"BokehJS \" + Bokeh.version + \" successfully loaded.\";\n",
       "    } else if (Date.now() < window._bokeh_timeout) {\n",
       "      setTimeout(display_loaded, 100)\n",
       "    }\n",
       "  }\n",
       "\n",
       "  function run_callbacks() {\n",
       "    window._bokeh_onload_callbacks.forEach(function(callback) { callback() });\n",
       "    delete window._bokeh_onload_callbacks\n",
       "    console.info(\"Bokeh: all callbacks have finished\");\n",
       "  }\n",
       "\n",
       "  function load_libs(js_urls, callback) {\n",
       "    window._bokeh_onload_callbacks.push(callback);\n",
       "    if (window._bokeh_is_loading > 0) {\n",
       "      console.log(\"Bokeh: BokehJS is being loaded, scheduling callback at\", now());\n",
       "      return null;\n",
       "    }\n",
       "    if (js_urls == null || js_urls.length === 0) {\n",
       "      run_callbacks();\n",
       "      return null;\n",
       "    }\n",
       "    console.log(\"Bokeh: BokehJS not loaded, scheduling load and callback at\", now());\n",
       "    window._bokeh_is_loading = js_urls.length;\n",
       "    for (var i = 0; i < js_urls.length; i++) {\n",
       "      var url = js_urls[i];\n",
       "      var s = document.createElement('script');\n",
       "      s.src = url;\n",
       "      s.async = false;\n",
       "      s.onreadystatechange = s.onload = function() {\n",
       "        window._bokeh_is_loading--;\n",
       "        if (window._bokeh_is_loading === 0) {\n",
       "          console.log(\"Bokeh: all BokehJS libraries loaded\");\n",
       "          run_callbacks()\n",
       "        }\n",
       "      };\n",
       "      s.onerror = function() {\n",
       "        console.warn(\"failed to load library \" + url);\n",
       "      };\n",
       "      console.log(\"Bokeh: injecting script tag for BokehJS library: \", url);\n",
       "      document.getElementsByTagName(\"head\")[0].appendChild(s);\n",
       "    }\n",
       "  };var element = document.getElementById(\"e5a5e58e-5530-432b-aa33-161aa0a6c29f\");\n",
       "  if (element == null) {\n",
       "    console.log(\"Bokeh: ERROR: autoload.js configured with elementid 'e5a5e58e-5530-432b-aa33-161aa0a6c29f' but no matching script tag was found. \")\n",
       "    return false;\n",
       "  }\n",
       "\n",
       "  var js_urls = [\"https://cdn.pydata.org/bokeh/release/bokeh-0.12.5.min.js\", \"https://cdn.pydata.org/bokeh/release/bokeh-widgets-0.12.5.min.js\"];\n",
       "\n",
       "  var inline_js = [\n",
       "    function(Bokeh) {\n",
       "      Bokeh.set_log_level(\"info\");\n",
       "    },\n",
       "    \n",
       "    function(Bokeh) {\n",
       "      \n",
       "    },\n",
       "    \n",
       "    function(Bokeh) {\n",
       "      \n",
       "      document.getElementById(\"e5a5e58e-5530-432b-aa33-161aa0a6c29f\").textContent = \"BokehJS is loading...\";\n",
       "    },\n",
       "    function(Bokeh) {\n",
       "      console.log(\"Bokeh: injecting CSS: https://cdn.pydata.org/bokeh/release/bokeh-0.12.5.min.css\");\n",
       "      Bokeh.embed.inject_css(\"https://cdn.pydata.org/bokeh/release/bokeh-0.12.5.min.css\");\n",
       "      console.log(\"Bokeh: injecting CSS: https://cdn.pydata.org/bokeh/release/bokeh-widgets-0.12.5.min.css\");\n",
       "      Bokeh.embed.inject_css(\"https://cdn.pydata.org/bokeh/release/bokeh-widgets-0.12.5.min.css\");\n",
       "    }\n",
       "  ];\n",
       "\n",
       "  function run_inline_js() {\n",
       "    \n",
       "    if ((window.Bokeh !== undefined) || (force === true)) {\n",
       "      for (var i = 0; i < inline_js.length; i++) {\n",
       "        inline_js[i](window.Bokeh);\n",
       "      }if (force === true) {\n",
       "        display_loaded();\n",
       "      }} else if (Date.now() < window._bokeh_timeout) {\n",
       "      setTimeout(run_inline_js, 100);\n",
       "    } else if (!window._bokeh_failed_load) {\n",
       "      console.log(\"Bokeh: BokehJS failed to load within specified timeout.\");\n",
       "      window._bokeh_failed_load = true;\n",
       "    } else if (force !== true) {\n",
       "      var cell = $(document.getElementById(\"e5a5e58e-5530-432b-aa33-161aa0a6c29f\")).parents('.cell').data().cell;\n",
       "      cell.output_area.append_execute_result(NB_LOAD_WARNING)\n",
       "    }\n",
       "\n",
       "  }\n",
       "\n",
       "  if (window._bokeh_is_loading === 0) {\n",
       "    console.log(\"Bokeh: BokehJS loaded, going straight to plotting\");\n",
       "    run_inline_js();\n",
       "  } else {\n",
       "    load_libs(js_urls, function() {\n",
       "      console.log(\"Bokeh: BokehJS plotting callback run at\", now());\n",
       "      run_inline_js();\n",
       "    });\n",
       "  }\n",
       "}(this));"
      ]
     },
     "metadata": {},
     "output_type": "display_data"
    }
   ],
   "source": [
    "output_notebook()"
   ]
  },
  {
   "cell_type": "code",
   "execution_count": 89,
   "metadata": {},
   "outputs": [
    {
     "data": {
      "text/html": [
       "\n",
       "\n",
       "    <div class=\"bk-root\">\n",
       "        <div class=\"bk-plotdiv\" id=\"455b8b8b-fb3e-4170-8e82-c97070a391a3\"></div>\n",
       "    </div>\n",
       "<script type=\"text/javascript\">\n",
       "  \n",
       "  (function(global) {\n",
       "    function now() {\n",
       "      return new Date();\n",
       "    }\n",
       "  \n",
       "    var force = false;\n",
       "  \n",
       "    if (typeof (window._bokeh_onload_callbacks) === \"undefined\" || force === true) {\n",
       "      window._bokeh_onload_callbacks = [];\n",
       "      window._bokeh_is_loading = undefined;\n",
       "    }\n",
       "  \n",
       "  \n",
       "    \n",
       "    if (typeof (window._bokeh_timeout) === \"undefined\" || force === true) {\n",
       "      window._bokeh_timeout = Date.now() + 0;\n",
       "      window._bokeh_failed_load = false;\n",
       "    }\n",
       "  \n",
       "    var NB_LOAD_WARNING = {'data': {'text/html':\n",
       "       \"<div style='background-color: #fdd'>\\n\"+\n",
       "       \"<p>\\n\"+\n",
       "       \"BokehJS does not appear to have successfully loaded. If loading BokehJS from CDN, this \\n\"+\n",
       "       \"may be due to a slow or bad network connection. Possible fixes:\\n\"+\n",
       "       \"</p>\\n\"+\n",
       "       \"<ul>\\n\"+\n",
       "       \"<li>re-rerun `output_notebook()` to attempt to load from CDN again, or</li>\\n\"+\n",
       "       \"<li>use INLINE resources instead, as so:</li>\\n\"+\n",
       "       \"</ul>\\n\"+\n",
       "       \"<code>\\n\"+\n",
       "       \"from bokeh.resources import INLINE\\n\"+\n",
       "       \"output_notebook(resources=INLINE)\\n\"+\n",
       "       \"</code>\\n\"+\n",
       "       \"</div>\"}};\n",
       "  \n",
       "    function display_loaded() {\n",
       "      if (window.Bokeh !== undefined) {\n",
       "        var el = document.getElementById(\"455b8b8b-fb3e-4170-8e82-c97070a391a3\");\n",
       "        el.textContent = \"BokehJS \" + Bokeh.version + \" successfully loaded.\";\n",
       "      } else if (Date.now() < window._bokeh_timeout) {\n",
       "        setTimeout(display_loaded, 100)\n",
       "      }\n",
       "    }\n",
       "  \n",
       "    function run_callbacks() {\n",
       "      window._bokeh_onload_callbacks.forEach(function(callback) { callback() });\n",
       "      delete window._bokeh_onload_callbacks\n",
       "      console.info(\"Bokeh: all callbacks have finished\");\n",
       "    }\n",
       "  \n",
       "    function load_libs(js_urls, callback) {\n",
       "      window._bokeh_onload_callbacks.push(callback);\n",
       "      if (window._bokeh_is_loading > 0) {\n",
       "        console.log(\"Bokeh: BokehJS is being loaded, scheduling callback at\", now());\n",
       "        return null;\n",
       "      }\n",
       "      if (js_urls == null || js_urls.length === 0) {\n",
       "        run_callbacks();\n",
       "        return null;\n",
       "      }\n",
       "      console.log(\"Bokeh: BokehJS not loaded, scheduling load and callback at\", now());\n",
       "      window._bokeh_is_loading = js_urls.length;\n",
       "      for (var i = 0; i < js_urls.length; i++) {\n",
       "        var url = js_urls[i];\n",
       "        var s = document.createElement('script');\n",
       "        s.src = url;\n",
       "        s.async = false;\n",
       "        s.onreadystatechange = s.onload = function() {\n",
       "          window._bokeh_is_loading--;\n",
       "          if (window._bokeh_is_loading === 0) {\n",
       "            console.log(\"Bokeh: all BokehJS libraries loaded\");\n",
       "            run_callbacks()\n",
       "          }\n",
       "        };\n",
       "        s.onerror = function() {\n",
       "          console.warn(\"failed to load library \" + url);\n",
       "        };\n",
       "        console.log(\"Bokeh: injecting script tag for BokehJS library: \", url);\n",
       "        document.getElementsByTagName(\"head\")[0].appendChild(s);\n",
       "      }\n",
       "    };var element = document.getElementById(\"455b8b8b-fb3e-4170-8e82-c97070a391a3\");\n",
       "    if (element == null) {\n",
       "      console.log(\"Bokeh: ERROR: autoload.js configured with elementid '455b8b8b-fb3e-4170-8e82-c97070a391a3' but no matching script tag was found. \")\n",
       "      return false;\n",
       "    }\n",
       "  \n",
       "    var js_urls = [];\n",
       "  \n",
       "    var inline_js = [\n",
       "      function(Bokeh) {\n",
       "        (function() {\n",
       "          var fn = function() {\n",
       "            var docs_json = {\"dd47f81d-d1e7-4290-b774-cf45c3ebe766\":{\"roots\":{\"references\":[{\"attributes\":{\"plot\":{\"id\":\"72be5cb2-7b2b-4c49-893b-f7c847c02f73\",\"subtype\":\"Figure\",\"type\":\"Plot\"}},\"id\":\"c249236e-b8d7-427a-8385-6a5b7e7c91be\",\"type\":\"PanTool\"},{\"attributes\":{\"plot\":{\"id\":\"72be5cb2-7b2b-4c49-893b-f7c847c02f73\",\"subtype\":\"Figure\",\"type\":\"Plot\"}},\"id\":\"9cc476fa-a961-4f8e-9aeb-8bab1ba2f5cb\",\"type\":\"ResetTool\"},{\"attributes\":{\"plot\":{\"id\":\"72be5cb2-7b2b-4c49-893b-f7c847c02f73\",\"subtype\":\"Figure\",\"type\":\"Plot\"}},\"id\":\"07dd0f0f-b48f-49fd-829a-5bdd10afaaa1\",\"type\":\"SaveTool\"},{\"attributes\":{\"plot\":{\"id\":\"72be5cb2-7b2b-4c49-893b-f7c847c02f73\",\"subtype\":\"Figure\",\"type\":\"Plot\"}},\"id\":\"5f4dbb00-fdc1-4279-83f5-1cd5d4507a12\",\"type\":\"WheelZoomTool\"},{\"attributes\":{\"callback\":null,\"plot\":{\"id\":\"72be5cb2-7b2b-4c49-893b-f7c847c02f73\",\"subtype\":\"Figure\",\"type\":\"Plot\"}},\"id\":\"09583889-ee9e-418d-8213-be17c53b8bee\",\"type\":\"HoverTool\"},{\"attributes\":{},\"id\":\"ce527438-93f7-4e53-8158-1aa2c510af79\",\"type\":\"BasicTickFormatter\"},{\"attributes\":{\"below\":[{\"id\":\"f1277800-5a28-4c8d-b96d-f4071b81ad7b\",\"type\":\"LinearAxis\"}],\"left\":[{\"id\":\"dea8236e-92dc-4a72-9963-bc9252daaa8e\",\"type\":\"LinearAxis\"}],\"plot_height\":400,\"plot_width\":400,\"renderers\":[{\"id\":\"f1277800-5a28-4c8d-b96d-f4071b81ad7b\",\"type\":\"LinearAxis\"},{\"id\":\"18f85137-989f-440b-9c93-42741ba1e00c\",\"type\":\"Grid\"},{\"id\":\"dea8236e-92dc-4a72-9963-bc9252daaa8e\",\"type\":\"LinearAxis\"},{\"id\":\"3846571f-8f67-4e75-9680-73a0494e183c\",\"type\":\"Grid\"},{\"id\":\"e5aa6755-a0a0-4c03-85a9-99fa253b7406\",\"type\":\"GlyphRenderer\"}],\"title\":{\"id\":\"476a753c-8921-4520-acfa-5094334d42ce\",\"type\":\"Title\"},\"tool_events\":{\"id\":\"0d7bff21-990a-4f1f-b13a-00fd4f3e6fbc\",\"type\":\"ToolEvents\"},\"toolbar\":{\"id\":\"8488a6fa-a6f9-49d5-8520-c3f669af3230\",\"type\":\"Toolbar\"},\"x_range\":{\"id\":\"79b4af4f-11b1-4766-a1b4-cbeaedb6b527\",\"type\":\"DataRange1d\"},\"y_range\":{\"id\":\"9623876d-4b3c-4499-8ad5-8b15e3b4a051\",\"type\":\"DataRange1d\"}},\"id\":\"72be5cb2-7b2b-4c49-893b-f7c847c02f73\",\"subtype\":\"Figure\",\"type\":\"Plot\"},{\"attributes\":{\"callback\":null,\"column_names\":[\"left\",\"right\",\"top\"],\"data\":{\"left\":{\"__ndarray__\":\"AAAAAAAAAACrqqqqqqoOQKuqqqqqqh5AAAAAAAAAJ0CrqqqqqqouQKuqqqqqKjNAAAAAAAAAN0BWVVVVVdU6QKuqqqqqqj5AAAAAAABAQUCrqqqqqipDQFZVVVVVFUVAAAAAAAAAR0CrqqqqqupIQFZVVVVV1UpAAAAAAADATECrqqqqqqpOQKuqqqqqSlBAAAAAAABAUUBWVVVVVTVSQKuqqqqqKlNAAAAAAAAgVEBWVVVVVRVVQKuqqqqqClZAAAAAAAAAV0BWVVVVVfVXQKuqqqqq6lhAAAAAAADgWUBWVVVVVdVaQKuqqqqqyltA\",\"dtype\":\"float64\",\"shape\":[30]},\"right\":{\"__ndarray__\":\"q6qqqqqqDkCrqqqqqqoeQAAAAAAAACdAq6qqqqqqLkCrqqqqqiozQAAAAAAAADdAVlVVVVXVOkCrqqqqqqo+QAAAAAAAQEFAq6qqqqoqQ0BWVVVVVRVFQAAAAAAAAEdAq6qqqqrqSEBWVVVVVdVKQAAAAAAAwExAq6qqqqqqTkCrqqqqqkpQQAAAAAAAQFFAVlVVVVU1UkCrqqqqqipTQAAAAAAAIFRAVlVVVVUVVUCrqqqqqgpWQAAAAAAAAFdAVlVVVVX1V0CrqqqqqupYQAAAAAAA4FlAVlVVVVXVWkCrqqqqqspbQAAAAAAAwFxA\",\"dtype\":\"float64\",\"shape\":[30]},\"top\":[20,25,19,9,3,2,3,2,2,0,1,0,1,0,0,0,0,0,0,0,0,0,0,0,0,0,0,0,0,1]}},\"id\":\"20ce07a6-11c5-4c35-a56f-7b8cb860712c\",\"type\":\"ColumnDataSource\"},{\"attributes\":{\"plot\":null,\"text\":\"histogram of @python_tip stars\"},\"id\":\"476a753c-8921-4520-acfa-5094334d42ce\",\"type\":\"Title\"},{\"attributes\":{\"callback\":null},\"id\":\"79b4af4f-11b1-4766-a1b4-cbeaedb6b527\",\"type\":\"DataRange1d\"},{\"attributes\":{\"bottom\":{\"value\":0},\"fill_alpha\":{\"value\":0.1},\"fill_color\":{\"value\":\"#1f77b4\"},\"left\":{\"field\":\"left\"},\"line_alpha\":{\"value\":0.1},\"line_color\":{\"value\":\"#1f77b4\"},\"right\":{\"field\":\"right\"},\"top\":{\"field\":\"top\"}},\"id\":\"90d3639c-301c-4559-bcda-a8fa0bf7982b\",\"type\":\"Quad\"},{\"attributes\":{\"data_source\":{\"id\":\"20ce07a6-11c5-4c35-a56f-7b8cb860712c\",\"type\":\"ColumnDataSource\"},\"glyph\":{\"id\":\"45241afb-34c8-47b6-8979-0be0810fc40e\",\"type\":\"Quad\"},\"hover_glyph\":null,\"muted_glyph\":null,\"nonselection_glyph\":{\"id\":\"90d3639c-301c-4559-bcda-a8fa0bf7982b\",\"type\":\"Quad\"},\"selection_glyph\":null},\"id\":\"e5aa6755-a0a0-4c03-85a9-99fa253b7406\",\"type\":\"GlyphRenderer\"},{\"attributes\":{\"active_drag\":\"auto\",\"active_scroll\":\"auto\",\"active_tap\":\"auto\",\"tools\":[{\"id\":\"3c570469-7178-43b4-8d3d-baf6ecc43557\",\"type\":\"CrosshairTool\"},{\"id\":\"c249236e-b8d7-427a-8385-6a5b7e7c91be\",\"type\":\"PanTool\"},{\"id\":\"9cc476fa-a961-4f8e-9aeb-8bab1ba2f5cb\",\"type\":\"ResetTool\"},{\"id\":\"07dd0f0f-b48f-49fd-829a-5bdd10afaaa1\",\"type\":\"SaveTool\"},{\"id\":\"5f4dbb00-fdc1-4279-83f5-1cd5d4507a12\",\"type\":\"WheelZoomTool\"},{\"id\":\"09583889-ee9e-418d-8213-be17c53b8bee\",\"type\":\"HoverTool\"}]},\"id\":\"8488a6fa-a6f9-49d5-8520-c3f669af3230\",\"type\":\"Toolbar\"},{\"attributes\":{},\"id\":\"15babd9a-d5d7-4d18-9e7d-51017e973933\",\"type\":\"BasicTickFormatter\"},{\"attributes\":{\"formatter\":{\"id\":\"ce527438-93f7-4e53-8158-1aa2c510af79\",\"type\":\"BasicTickFormatter\"},\"plot\":{\"id\":\"72be5cb2-7b2b-4c49-893b-f7c847c02f73\",\"subtype\":\"Figure\",\"type\":\"Plot\"},\"ticker\":{\"id\":\"2125eade-648d-43c3-99ce-b7e45bc376d2\",\"type\":\"BasicTicker\"}},\"id\":\"f1277800-5a28-4c8d-b96d-f4071b81ad7b\",\"type\":\"LinearAxis\"},{\"attributes\":{\"callback\":null},\"id\":\"9623876d-4b3c-4499-8ad5-8b15e3b4a051\",\"type\":\"DataRange1d\"},{\"attributes\":{},\"id\":\"2125eade-648d-43c3-99ce-b7e45bc376d2\",\"type\":\"BasicTicker\"},{\"attributes\":{\"plot\":{\"id\":\"72be5cb2-7b2b-4c49-893b-f7c847c02f73\",\"subtype\":\"Figure\",\"type\":\"Plot\"},\"ticker\":{\"id\":\"2125eade-648d-43c3-99ce-b7e45bc376d2\",\"type\":\"BasicTicker\"}},\"id\":\"18f85137-989f-440b-9c93-42741ba1e00c\",\"type\":\"Grid\"},{\"attributes\":{\"formatter\":{\"id\":\"15babd9a-d5d7-4d18-9e7d-51017e973933\",\"type\":\"BasicTickFormatter\"},\"plot\":{\"id\":\"72be5cb2-7b2b-4c49-893b-f7c847c02f73\",\"subtype\":\"Figure\",\"type\":\"Plot\"},\"ticker\":{\"id\":\"d022d0ea-495b-4d65-9227-aa365ab48f07\",\"type\":\"BasicTicker\"}},\"id\":\"dea8236e-92dc-4a72-9963-bc9252daaa8e\",\"type\":\"LinearAxis\"},{\"attributes\":{},\"id\":\"0d7bff21-990a-4f1f-b13a-00fd4f3e6fbc\",\"type\":\"ToolEvents\"},{\"attributes\":{},\"id\":\"d022d0ea-495b-4d65-9227-aa365ab48f07\",\"type\":\"BasicTicker\"},{\"attributes\":{\"dimension\":1,\"plot\":{\"id\":\"72be5cb2-7b2b-4c49-893b-f7c847c02f73\",\"subtype\":\"Figure\",\"type\":\"Plot\"},\"ticker\":{\"id\":\"d022d0ea-495b-4d65-9227-aa365ab48f07\",\"type\":\"BasicTicker\"}},\"id\":\"3846571f-8f67-4e75-9680-73a0494e183c\",\"type\":\"Grid\"},{\"attributes\":{\"bottom\":{\"value\":0},\"fill_color\":{\"value\":\"#446785\"},\"left\":{\"field\":\"left\"},\"line_color\":{\"value\":\"#033649\"},\"right\":{\"field\":\"right\"},\"top\":{\"field\":\"top\"}},\"id\":\"45241afb-34c8-47b6-8979-0be0810fc40e\",\"type\":\"Quad\"},{\"attributes\":{\"plot\":{\"id\":\"72be5cb2-7b2b-4c49-893b-f7c847c02f73\",\"subtype\":\"Figure\",\"type\":\"Plot\"}},\"id\":\"3c570469-7178-43b4-8d3d-baf6ecc43557\",\"type\":\"CrosshairTool\"}],\"root_ids\":[\"72be5cb2-7b2b-4c49-893b-f7c847c02f73\"]},\"title\":\"Bokeh Application\",\"version\":\"0.12.5\"}};\n",
       "            var render_items = [{\"docid\":\"dd47f81d-d1e7-4290-b774-cf45c3ebe766\",\"elementid\":\"455b8b8b-fb3e-4170-8e82-c97070a391a3\",\"modelid\":\"72be5cb2-7b2b-4c49-893b-f7c847c02f73\"}];\n",
       "            \n",
       "            Bokeh.embed.embed_items(docs_json, render_items);\n",
       "          };\n",
       "          if (document.readyState != \"loading\") fn();\n",
       "          else document.addEventListener(\"DOMContentLoaded\", fn);\n",
       "        })();\n",
       "      },\n",
       "      function(Bokeh) {\n",
       "      }\n",
       "    ];\n",
       "  \n",
       "    function run_inline_js() {\n",
       "      \n",
       "      if ((window.Bokeh !== undefined) || (force === true)) {\n",
       "        for (var i = 0; i < inline_js.length; i++) {\n",
       "          inline_js[i](window.Bokeh);\n",
       "        }if (force === true) {\n",
       "          display_loaded();\n",
       "        }} else if (Date.now() < window._bokeh_timeout) {\n",
       "        setTimeout(run_inline_js, 100);\n",
       "      } else if (!window._bokeh_failed_load) {\n",
       "        console.log(\"Bokeh: BokehJS failed to load within specified timeout.\");\n",
       "        window._bokeh_failed_load = true;\n",
       "      } else if (force !== true) {\n",
       "        var cell = $(document.getElementById(\"455b8b8b-fb3e-4170-8e82-c97070a391a3\")).parents('.cell').data().cell;\n",
       "        cell.output_area.append_execute_result(NB_LOAD_WARNING)\n",
       "      }\n",
       "  \n",
       "    }\n",
       "  \n",
       "    if (window._bokeh_is_loading === 0) {\n",
       "      console.log(\"Bokeh: BokehJS loaded, going straight to plotting\");\n",
       "      run_inline_js();\n",
       "    } else {\n",
       "      load_libs(js_urls, function() {\n",
       "        console.log(\"Bokeh: BokehJS plotting callback run at\", now());\n",
       "        run_inline_js();\n",
       "      });\n",
       "    }\n",
       "  }(this));\n",
       "</script>"
      ]
     },
     "metadata": {},
     "output_type": "display_data"
    }
   ],
   "source": [
    "hist, edges = np.histogram(likes, bins = 30)\n",
    "plot = figure(plot_height=400, plot_width=400, title=\"histogram of @python_tip stars\",\n",
    "              tools=\"crosshair,pan,reset,save,wheel_zoom,hover\")\n",
    "\n",
    "hh = plot.quad(bottom=0, left=edges[:-1], right=edges[1:], top=hist, fill_color=\"#446785\", line_color=\"#033649\")\n",
    "show(plot)"
   ]
  },
  {
   "cell_type": "code",
   "execution_count": null,
   "metadata": {
    "collapsed": true
   },
   "outputs": [],
   "source": []
  }
 ],
 "metadata": {
  "kernelspec": {
   "display_name": "Python 3",
   "language": "python",
   "name": "python3"
  },
  "language_info": {
   "codemirror_mode": {
    "name": "ipython",
    "version": 3
   },
   "file_extension": ".py",
   "mimetype": "text/x-python",
   "name": "python",
   "nbconvert_exporter": "python",
   "pygments_lexer": "ipython3",
   "version": "3.6.1"
  }
 },
 "nbformat": 4,
 "nbformat_minor": 2
}
